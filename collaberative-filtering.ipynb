{
 "cells": [
  {
   "cell_type": "code",
   "execution_count": 98,
   "id": "2dcf9f13",
   "metadata": {},
   "outputs": [],
   "source": [
    "from scipy import sparse\n",
    "from sklearn.model_selection import train_test_split"
   ]
  },
  {
   "cell_type": "code",
   "execution_count": 96,
   "id": "ae8154cf",
   "metadata": {},
   "outputs": [
    {
     "name": "stdout",
     "output_type": "stream",
     "text": [
      "^C\n"
     ]
    }
   ],
   "source": [
    "!pip uninstall scikit-learn"
   ]
  },
  {
   "cell_type": "code",
   "execution_count": 49,
   "id": "539db918",
   "metadata": {},
   "outputs": [],
   "source": [
    "import pandas as pd\n",
    "import seaborn as sns\n",
    "import matplotlib.pyplot as plt\n",
    "import numpy as npy\n",
    "from scipy.stats import linregress\n",
    "from sklearn.model_selection import GroupShuffleSplit\n",
    "import dataframe_image as dfi\n",
    "\n",
    "bg = pd.read_feather(\"boardgamegeek.feather\")\n",
    "np = pd.read_feather(\"netflix_prize.feather\")\n",
    "m = pd.read_feather(\"movielens_25m.feather\") \n",
    "y = pd.read_feather(\"yahoo_r2_songs.subsampled.feather\")"
   ]
  },
  {
   "cell_type": "code",
   "execution_count": 50,
   "id": "75306025",
   "metadata": {},
   "outputs": [],
   "source": [
    "plt.rcParams['figure.dpi'] = 400"
   ]
  },
  {
   "cell_type": "code",
   "execution_count": 51,
   "id": "47572a32",
   "metadata": {},
   "outputs": [],
   "source": [
    "bg = bg[bg['user_id'].notnull()]"
   ]
  },
  {
   "cell_type": "code",
   "execution_count": 52,
   "id": "cb4fdf1d",
   "metadata": {},
   "outputs": [],
   "source": [
    "\n",
    "unique_items = bg['item_id'].unique()\n",
    "item_id_map = {old: new for new, old in enumerate(unique_items)}\n",
    "bg['item_id'] = bg['item_id'].map(item_id_map)\n",
    "n_items = len(unique_items)"
   ]
  },
  {
   "cell_type": "code",
   "execution_count": null,
   "id": "2e11361c",
   "metadata": {},
   "outputs": [],
   "source": [
    "groups = bg['user_id']\n",
    "gss = GroupShuffleSplit(n_splits=1,test_size=0.25,random_state=42)"
   ]
  },
  {
   "cell_type": "code",
   "execution_count": 81,
   "id": "db0b2584",
   "metadata": {},
   "outputs": [],
   "source": [
    "train_idx,test_idx = next(gss.split(bg,groups=groups))"
   ]
  },
  {
   "cell_type": "code",
   "execution_count": 82,
   "id": "a17d79ce",
   "metadata": {},
   "outputs": [],
   "source": [
    "train_data = bg.iloc[train_idx]\n",
    "test_data = bg.iloc[test_idx]"
   ]
  },
  {
   "cell_type": "code",
   "execution_count": 56,
   "id": "5172faf0",
   "metadata": {},
   "outputs": [
    {
     "name": "stderr",
     "output_type": "stream",
     "text": [
      "C:\\Users\\18ara\\AppData\\Local\\Temp\\ipykernel_9508\\2099712719.py:3: SettingWithCopyWarning: \n",
      "A value is trying to be set on a copy of a slice from a DataFrame.\n",
      "Try using .loc[row_indexer,col_indexer] = value instead\n",
      "\n",
      "See the caveats in the documentation: https://pandas.pydata.org/pandas-docs/stable/user_guide/indexing.html#returning-a-view-versus-a-copy\n",
      "  train_data['user_id'] = train_data['user_id'].map(item_id_map)\n"
     ]
    }
   ],
   "source": [
    "unique_items = train_data['user_id'].unique()\n",
    "item_id_map = {old: new for new, old in enumerate(unique_items)}\n",
    "train_data['user_id'] = train_data['user_id'].map(item_id_map)"
   ]
  },
  {
   "cell_type": "code",
   "execution_count": 57,
   "id": "7971b864",
   "metadata": {},
   "outputs": [],
   "source": [
    "n_training_users = len(unique_items)"
   ]
  },
  {
   "cell_type": "code",
   "execution_count": 58,
   "id": "3c5711c6",
   "metadata": {},
   "outputs": [
    {
     "data": {
      "text/plain": [
       "308530"
      ]
     },
     "execution_count": 58,
     "metadata": {},
     "output_type": "execute_result"
    }
   ],
   "source": [
    "n_training_users"
   ]
  },
  {
   "cell_type": "code",
   "execution_count": 59,
   "id": "999c4d19",
   "metadata": {},
   "outputs": [],
   "source": [
    "training_X = sparse.csr_matrix((train_data[\"rating\"],\n",
    "                                (train_data[\"user_id\"],\n",
    "                                train_data[\"item_id\"])),\n",
    "                                shape=(n_training_users, n_items))"
   ]
  },
  {
   "cell_type": "code",
   "execution_count": 60,
   "id": "2faa158d",
   "metadata": {},
   "outputs": [
    {
     "data": {
      "text/html": [
       "<div>\n",
       "<style scoped>\n",
       "    .dataframe tbody tr th:only-of-type {\n",
       "        vertical-align: middle;\n",
       "    }\n",
       "\n",
       "    .dataframe tbody tr th {\n",
       "        vertical-align: top;\n",
       "    }\n",
       "\n",
       "    .dataframe thead th {\n",
       "        text-align: right;\n",
       "    }\n",
       "</style>\n",
       "<table border=\"1\" class=\"dataframe\">\n",
       "  <thead>\n",
       "    <tr style=\"text-align: right;\">\n",
       "      <th></th>\n",
       "      <th>item_id</th>\n",
       "      <th>user_id</th>\n",
       "      <th>rating</th>\n",
       "    </tr>\n",
       "  </thead>\n",
       "  <tbody>\n",
       "    <tr>\n",
       "      <th>7</th>\n",
       "      <td>0</td>\n",
       "      <td>htwongah</td>\n",
       "      <td>8.0</td>\n",
       "    </tr>\n",
       "    <tr>\n",
       "      <th>14</th>\n",
       "      <td>0</td>\n",
       "      <td>Narstrand</td>\n",
       "      <td>7.8</td>\n",
       "    </tr>\n",
       "    <tr>\n",
       "      <th>21</th>\n",
       "      <td>0</td>\n",
       "      <td>m1hune2007</td>\n",
       "      <td>7.5</td>\n",
       "    </tr>\n",
       "    <tr>\n",
       "      <th>24</th>\n",
       "      <td>0</td>\n",
       "      <td>lemados</td>\n",
       "      <td>7.0</td>\n",
       "    </tr>\n",
       "    <tr>\n",
       "      <th>36</th>\n",
       "      <td>0</td>\n",
       "      <td>3villans</td>\n",
       "      <td>7.0</td>\n",
       "    </tr>\n",
       "  </tbody>\n",
       "</table>\n",
       "</div>"
      ],
      "text/plain": [
       "    item_id     user_id  rating\n",
       "7         0    htwongah     8.0\n",
       "14        0   Narstrand     7.8\n",
       "21        0  m1hune2007     7.5\n",
       "24        0     lemados     7.0\n",
       "36        0    3villans     7.0"
      ]
     },
     "execution_count": 60,
     "metadata": {},
     "output_type": "execute_result"
    }
   ],
   "source": [
    "test_data.head()"
   ]
  },
  {
   "cell_type": "code",
   "execution_count": 83,
   "id": "e8b651d0",
   "metadata": {},
   "outputs": [
    {
     "name": "stderr",
     "output_type": "stream",
     "text": [
      "C:\\Users\\18ara\\AppData\\Local\\Temp\\ipykernel_9508\\2087887513.py:7: SettingWithCopyWarning: \n",
      "A value is trying to be set on a copy of a slice from a DataFrame.\n",
      "Try using .loc[row_indexer,col_indexer] = value instead\n",
      "\n",
      "See the caveats in the documentation: https://pandas.pydata.org/pandas-docs/stable/user_guide/indexing.html#returning-a-view-versus-a-copy\n",
      "  filtered_data['user_id'] = filtered_data['user_id'].map(item_id_map)\n"
     ]
    }
   ],
   "source": [
    "user_counts = test_data['user_id'].value_counts()\n",
    "valid_users = user_counts[user_counts >= 2].index\n",
    "filtered_data = test_data[test_data['user_id'].isin(valid_users)]\n",
    "\n",
    "unique_items = filtered_data['user_id'].unique()\n",
    "item_id_map = {old: new for new, old in enumerate(unique_items)}\n",
    "filtered_data['user_id'] = filtered_data['user_id'].map(item_id_map)\n",
    "\n",
    "test_seen, test_unseen = train_test_split(\n",
    "    filtered_data,\n",
    "    test_size=0.5,\n",
    "    stratify=filtered_data['user_id'],\n",
    "    random_state=42\n",
    ")\n",
    "\n"
   ]
  },
  {
   "cell_type": "code",
   "execution_count": 88,
   "id": "7669266b",
   "metadata": {},
   "outputs": [],
   "source": [
    "n_testing_users = test_seen['user_id'].nunique()"
   ]
  },
  {
   "cell_type": "code",
   "execution_count": 89,
   "id": "90a026f1",
   "metadata": {},
   "outputs": [],
   "source": [
    "testing_X = sparse.csr_matrix((test_seen[\"rating\"],\n",
    "                                (test_seen[\"user_id\"],\n",
    "                                test_seen[\"item_id\"])),\n",
    "                                shape=(n_testing_users, n_items))"
   ]
  },
  {
   "cell_type": "code",
   "execution_count": null,
   "id": "ad85ae99",
   "metadata": {},
   "outputs": [],
   "source": []
  }
 ],
 "metadata": {
  "kernelspec": {
   "display_name": "Python 3",
   "language": "python",
   "name": "python3"
  },
  "language_info": {
   "codemirror_mode": {
    "name": "ipython",
    "version": 3
   },
   "file_extension": ".py",
   "mimetype": "text/x-python",
   "name": "python",
   "nbconvert_exporter": "python",
   "pygments_lexer": "ipython3",
   "version": "3.11.1"
  }
 },
 "nbformat": 4,
 "nbformat_minor": 5
}
